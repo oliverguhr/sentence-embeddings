{
 "cells": [
  {
   "cell_type": "code",
   "execution_count": 1,
   "metadata": {},
   "outputs": [
    {
     "name": "stdout",
     "output_type": "stream",
     "text": [
      "Requirement already satisfied: memory_profiler in /home/oli/.local/lib/python3.8/site-packages (0.57.0)\r\n",
      "Requirement already satisfied: psutil in /usr/lib/python3/dist-packages (from memory_profiler) (5.5.1)\r\n"
     ]
    }
   ],
   "source": [
    "!pip3 install memory_profiler\n",
    "%load_ext memory_profiler"
   ]
  },
  {
   "cell_type": "code",
   "execution_count": 2,
   "metadata": {},
   "outputs": [],
   "source": [
    "import LaBSE\n",
    "import numpy as np"
   ]
  },
  {
   "cell_type": "code",
   "execution_count": 3,
   "metadata": {},
   "outputs": [
    {
     "name": "stdout",
     "output_type": "stream",
     "text": [
      "is not trainable\n"
     ]
    }
   ],
   "source": [
    "labse = LaBSE.LabseSentenceEncoding()"
   ]
  },
  {
   "cell_type": "code",
   "execution_count": 4,
   "metadata": {},
   "outputs": [],
   "source": [
    "english_sentences = [\"dog\", \"Puppies are nice.\", \"I enjoy taking long walks along the beach with my dog.\"]\n",
    "italian_sentences = [\"cane\", \"I cuccioli sono carini.\", \"Mi piace fare lunghe passeggiate lungo la spiaggia con il mio cane.\"]\n",
    "japanese_sentences = [\"犬\", \"子犬はいいです\", \"私は犬と一緒にビーチを散歩するのが好きです\"]\n",
    "german_sentences = [\"Hund\",\"Welpen sind süß.\", \"I genieße lange Spaziergänge mit meinem Hund am Strand.\"]"
   ]
  },
  {
   "cell_type": "code",
   "execution_count": 5,
   "metadata": {},
   "outputs": [
    {
     "name": "stdout",
     "output_type": "stream",
     "text": [
      "107 ms ± 1.51 ms per loop (mean ± std. dev. of 7 runs, 1 loop each)\n"
     ]
    }
   ],
   "source": [
    "%%timeit\n",
    "labse.encode([\"This is a longer test sentence to meaure how long the encoding takes.\"])"
   ]
  },
  {
   "cell_type": "code",
   "execution_count": 6,
   "metadata": {},
   "outputs": [
    {
     "name": "stdout",
     "output_type": "stream",
     "text": [
      "peak memory: 2690.86 MiB, increment: 36.56 MiB\n"
     ]
    }
   ],
   "source": [
    "%%memit\n",
    "labse.encode([\"This is a longer test sentence to meaure how long the encoding takes.\"])"
   ]
  },
  {
   "cell_type": "code",
   "execution_count": 7,
   "metadata": {},
   "outputs": [
    {
     "name": "stdout",
     "output_type": "stream",
     "text": [
      "\n"
     ]
    }
   ],
   "source": [
    "%mprun -f labse.encode labse.encode([\"This is a longer test sentence to meaure how long the encoding takes.\"])"
   ]
  },
  {
   "cell_type": "code",
   "execution_count": 8,
   "metadata": {},
   "outputs": [],
   "source": [
    "english_embeddings = labse.encode(english_sentences)\n",
    "italian_embeddings = labse.encode(italian_sentences)\n",
    "japanese_embeddings = labse.encode(japanese_sentences)\n",
    "german_embeddings = labse.encode(german_sentences)"
   ]
  },
  {
   "cell_type": "code",
   "execution_count": 9,
   "metadata": {},
   "outputs": [
    {
     "name": "stdout",
     "output_type": "stream",
     "text": [
      "[[0.63192904 0.30619794 0.4429747 ]\n",
      " [0.11652699 0.8596665  0.35940558]\n",
      " [0.14803992 0.32447973 0.9542651 ]]\n",
      "[[0.9356719  0.54030657 0.467923  ]\n",
      " [0.31804195 0.76222515 0.36085895]\n",
      " [0.36750704 0.4279153  0.81714547]]\n",
      "[[0.53437203 0.25018612 0.19974717]\n",
      " [0.30140814 0.71333206 0.40647542]\n",
      " [0.38503075 0.47767872 0.86743   ]]\n",
      "[[0.9462711  0.5427998  0.451137  ]\n",
      " [0.38075304 0.7742229  0.5003885 ]\n",
      " [0.39104548 0.48709273 0.83822393]]\n",
      "[[0.92966205 0.34716153 0.39702922]\n",
      " [0.41559264 0.8498492  0.37241483]\n",
      " [0.44947135 0.3624616  0.94378114]]\n",
      "[[1.         0.3964759  0.43589252]\n",
      " [0.3964759  0.9999998  0.4599799 ]\n",
      " [0.43589252 0.4599799  0.9999999 ]]\n"
     ]
    }
   ],
   "source": [
    "# English-Italian similarity\n",
    "print (np.matmul(english_embeddings, np.transpose(italian_embeddings)))\n",
    "\n",
    "# English-Japanese similarity\n",
    "print (np.matmul(english_embeddings, np.transpose(japanese_embeddings)))\n",
    "\n",
    "# Italian-Japanese similarity\n",
    "print (np.matmul(italian_embeddings, np.transpose(japanese_embeddings)))\n",
    "\n",
    "# German-Japanese similarity\n",
    "print (np.matmul(german_embeddings, np.transpose(japanese_embeddings)))\n",
    "\n",
    "# German-English similarity\n",
    "print (np.matmul(german_embeddings, np.transpose(english_embeddings)))\n",
    "\n",
    "# German-German similarity\n",
    "print (np.matmul(german_embeddings, np.transpose(german_embeddings)))"
   ]
  },
  {
   "cell_type": "code",
   "execution_count": 16,
   "metadata": {},
   "outputs": [
    {
     "name": "stdout",
     "output_type": "stream",
     "text": [
      "[[1.0000001  0.8645722  0.9723238  0.9550148  0.9220525 ]\n",
      " [0.8645722  1.0000004  0.8424641  0.8621087  0.80655986]\n",
      " [0.9723238  0.8424641  0.99999976 0.9767357  0.9049208 ]\n",
      " [0.9550148  0.8621087  0.9767357  1.0000002  0.92511165]\n",
      " [0.9220525  0.80655986 0.9049208  0.92511165 1.        ]]\n"
     ]
    }
   ],
   "source": [
    "test_sentences = [\"My name is Oliver\",\"call me Oliver\", \"Mein Name ist Oliver\",\"Ich heiße Oliver\", \"I am Oliver\"]\n",
    "test_embeddings = labse.encode(test_sentences)\n",
    "print (np.matmul(test_embeddings, np.transpose(test_embeddings)))"
   ]
  },
  {
   "cell_type": "code",
   "execution_count": null,
   "metadata": {},
   "outputs": [],
   "source": []
  }
 ],
 "metadata": {
  "kernelspec": {
   "display_name": "Python 3.8.2 64-bit",
   "language": "python",
   "name": "python38264bitcb406b027d044ef9b93ce598bd78adf5"
  },
  "language_info": {
   "codemirror_mode": {
    "name": "ipython",
    "version": 3
   },
   "file_extension": ".py",
   "mimetype": "text/x-python",
   "name": "python",
   "nbconvert_exporter": "python",
   "pygments_lexer": "ipython3",
   "version": "3.8.2"
  }
 },
 "nbformat": 4,
 "nbformat_minor": 4
}
